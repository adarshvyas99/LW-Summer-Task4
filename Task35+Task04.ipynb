{
 "cells": [
  {
   "cell_type": "markdown",
   "metadata": {},
   "source": [
    "#  **ARTH - Task:35 👨🏻‍💻 LW Summer - Task:04**"
   ]
  },
  {
   "cell_type": "code",
   "execution_count": 1,
   "metadata": {},
   "outputs": [],
   "source": [
    "#Importing the required Libraries for all tasks\n",
    "import cv2\n",
    "import numpy as np"
   ]
  },
  {
   "cell_type": "markdown",
   "metadata": {},
   "source": [
    "##  ARTH-Task:35.1 & LW Summer-Task:4.1\n",
    "📌 Create image by yourself Using Python Code "
   ]
  },
  {
   "cell_type": "markdown",
   "metadata": {},
   "source": [
    "**1. Image created in python using OpenCV library**"
   ]
  },
  {
   "cell_type": "code",
   "execution_count": 2,
   "metadata": {},
   "outputs": [],
   "source": [
    "#Creating a Black coloured Image\n",
    "img=np.zeros((1000,1200,3))"
   ]
  },
  {
   "cell_type": "code",
   "execution_count": 3,
   "metadata": {
    "scrolled": true
   },
   "outputs": [
    {
     "data": {
      "text/plain": [
       "array([[[0, 0, 0],\n",
       "        [0, 0, 0],\n",
       "        [0, 0, 0],\n",
       "        ...,\n",
       "        [0, 0, 0],\n",
       "        [0, 0, 0],\n",
       "        [0, 0, 0]],\n",
       "\n",
       "       [[0, 0, 0],\n",
       "        [0, 0, 0],\n",
       "        [0, 0, 0],\n",
       "        ...,\n",
       "        [0, 0, 0],\n",
       "        [0, 0, 0],\n",
       "        [0, 0, 0]],\n",
       "\n",
       "       [[0, 0, 0],\n",
       "        [0, 0, 0],\n",
       "        [0, 0, 0],\n",
       "        ...,\n",
       "        [0, 0, 0],\n",
       "        [0, 0, 0],\n",
       "        [0, 0, 0]],\n",
       "\n",
       "       ...,\n",
       "\n",
       "       [[0, 0, 0],\n",
       "        [0, 0, 0],\n",
       "        [0, 0, 0],\n",
       "        ...,\n",
       "        [0, 0, 0],\n",
       "        [0, 0, 0],\n",
       "        [0, 0, 0]],\n",
       "\n",
       "       [[0, 0, 0],\n",
       "        [0, 0, 0],\n",
       "        [0, 0, 0],\n",
       "        ...,\n",
       "        [0, 0, 0],\n",
       "        [0, 0, 0],\n",
       "        [0, 0, 0]],\n",
       "\n",
       "       [[0, 0, 0],\n",
       "        [0, 0, 0],\n",
       "        [0, 0, 0],\n",
       "        ...,\n",
       "        [0, 0, 0],\n",
       "        [0, 0, 0],\n",
       "        [0, 0, 0]]], dtype=uint8)"
      ]
     },
     "execution_count": 3,
     "metadata": {},
     "output_type": "execute_result"
    }
   ],
   "source": [
    "#Image created using Python using CV2 library\n",
    "import math\n",
    "r1 = 70\n",
    "r2 = 30\n",
    "\n",
    "ang = 60\n",
    "\n",
    "d = 170\n",
    "h = int(d/2*math.sqrt(3))\n",
    "\n",
    "dot_red = (256,128)\n",
    "dot_green = (dot_red[0]-d//2, dot_red[1]+h)\n",
    "dot_blue = (dot_red[0]+d//2, dot_red[1]+h)\n",
    "\n",
    "\n",
    "# tan = float(dot_red[0]-dot_green[0])/(dot_green[1]-dot_red[0])\n",
    "# ang = math.atan(tan)/math.pi*180\n",
    "\n",
    "red = (0, 0, 255)\n",
    "green = (0, 255, 0)\n",
    "blue = (255, 0, 0)\n",
    "black = (0, 0, 0)\n",
    "\n",
    "full = -1\n",
    "\n",
    "img = np.zeros((512, 512, 3), np.uint8)\n",
    "cv2.circle(img, dot_red, r1, red, full)\n",
    "cv2.circle(img, dot_green, r1, green, full)\n",
    "cv2.circle(img, dot_blue, r1, blue, full)\n",
    "cv2.circle(img, dot_red, r2, black, full)\n",
    "cv2.circle(img, dot_green, r2, black, full)\n",
    "cv2.circle(img, dot_blue, r2, black, full)\n",
    "\n",
    "cv2.ellipse(img, dot_red, (r1, r1), ang, 0, ang, black, full)\n",
    "cv2.ellipse(img, dot_green, (r1, r1), 360-ang, 0, ang, black, full)\n",
    "cv2.ellipse(img, dot_blue, (r1, r1), 360-2*ang, ang, 0, black, full)"
   ]
  },
  {
   "cell_type": "code",
   "execution_count": 4,
   "metadata": {},
   "outputs": [
    {
     "data": {
      "text/plain": [
       "array([[[0, 0, 0],\n",
       "        [0, 0, 0],\n",
       "        [0, 0, 0],\n",
       "        ...,\n",
       "        [0, 0, 0],\n",
       "        [0, 0, 0],\n",
       "        [0, 0, 0]],\n",
       "\n",
       "       [[0, 0, 0],\n",
       "        [0, 0, 0],\n",
       "        [0, 0, 0],\n",
       "        ...,\n",
       "        [0, 0, 0],\n",
       "        [0, 0, 0],\n",
       "        [0, 0, 0]],\n",
       "\n",
       "       [[0, 0, 0],\n",
       "        [0, 0, 0],\n",
       "        [0, 0, 0],\n",
       "        ...,\n",
       "        [0, 0, 0],\n",
       "        [0, 0, 0],\n",
       "        [0, 0, 0]],\n",
       "\n",
       "       ...,\n",
       "\n",
       "       [[0, 0, 0],\n",
       "        [0, 0, 0],\n",
       "        [0, 0, 0],\n",
       "        ...,\n",
       "        [0, 0, 0],\n",
       "        [0, 0, 0],\n",
       "        [0, 0, 0]],\n",
       "\n",
       "       [[0, 0, 0],\n",
       "        [0, 0, 0],\n",
       "        [0, 0, 0],\n",
       "        ...,\n",
       "        [0, 0, 0],\n",
       "        [0, 0, 0],\n",
       "        [0, 0, 0]],\n",
       "\n",
       "       [[0, 0, 0],\n",
       "        [0, 0, 0],\n",
       "        [0, 0, 0],\n",
       "        ...,\n",
       "        [0, 0, 0],\n",
       "        [0, 0, 0],\n",
       "        [0, 0, 0]]], dtype=uint8)"
      ]
     },
     "execution_count": 4,
     "metadata": {},
     "output_type": "execute_result"
    }
   ],
   "source": [
    "fontscale = 1\n",
    "# (B, G, R)\n",
    "color = (255, 255, 255)\n",
    "# select font\n",
    "\"\"\"                      \n",
    "    Availble font lists :\n",
    "    FONT_HERSHEY_COMPLEX\n",
    "    FONT_HERSHEY_COMPLEX_SMALL\n",
    "    FONT_HERSHEY_DUPLEX\n",
    "    FONT_HERSHEY_PLAIN\n",
    "    FONT_HERSHEY_SCRIPT_COMPLEX\n",
    "    FONT_HERSHEY_SCRIPT_SIMPLEX\n",
    "    FONT_HERSHEY_SIMPLEX\n",
    "    FONT_HERSHEY_TRIPLEX\n",
    "    FONT_ITALIC\n",
    "\"\"\"\n",
    "fontface = cv2.FONT_HERSHEY_SCRIPT_COMPLEX\n",
    "cv2.putText(img, \"OpenCV logo Created using Python\", (25, 40), fontface, fontscale, color)"
   ]
  },
  {
   "cell_type": "code",
   "execution_count": 5,
   "metadata": {},
   "outputs": [],
   "source": [
    "#Saving created Image\n",
    "cv2.imwrite('OPenCV.png',img)\n",
    "#Showing Created Image\n",
    "cv2.imshow('Image Window',img)\n",
    "cv2.waitKey()\n",
    "cv2.destroyAllWindows()"
   ]
  },
  {
   "cell_type": "markdown",
   "metadata": {},
   "source": [
    "**2. Image created in python using Matplotlib library**"
   ]
  },
  {
   "cell_type": "code",
   "execution_count": 6,
   "metadata": {},
   "outputs": [
    {
     "data": {
      "image/png": "[encoded data removed]",
      "text/plain": [
       "<Figure size 432x288 with 1 Axes>"
      ]
     },
     "metadata": {
      "needs_background": "light"
     },
     "output_type": "display_data"
    }
   ],
   "source": [
    "import matplotlib.pyplot as plt\n",
    "\n",
    "import random\n",
    "fig = plt.figure()\n",
    "\n",
    "#plot title \n",
    "plt.title('Image Created using Matplotlib')\n",
    "\n",
    "#plot styled text \n",
    "font = {'family': 'serif',\n",
    "        'color':  'darkred',\n",
    "        'weight': 'normal',\n",
    "        'size': 16,\n",
    "        }\n",
    "\n",
    "plt.text(33, -3, r'Linux World Summer 2021', fontdict=font)\n",
    "\n",
    "#plot blue dotted design\n",
    "for x in np.arange(20,40,4):\n",
    "    for y in np.arange(10,60,4):\n",
    "        plt.scatter(x,y,s=8,color='b')\n",
    "        \n",
    "for x in np.arange(100,120,4):\n",
    "    for y in np.arange(-10,-60,-4):\n",
    "        plt.scatter(x,y,s=8,color='b')\n",
    "        \n",
    "        \n",
    "#plot colourful dotted design        \n",
    "for x in np.arange(100,120,2):\n",
    "    for y in np.arange(10,60,2): \n",
    "        rr=random.randrange(0,100,1)/100 #–random red 0<=rr<=1\n",
    "        rg=random.randrange(0,100,1)/100 #–random green 0<=rg<=1\n",
    "        rb=random.randrange(0,100,1)/100 #–random blue 0<=rb<=1\n",
    "    plt.scatter(x,y,s=25,color=(rr,rg,rb))\n",
    "                \n",
    "for x in np.arange(20,40,2):\n",
    "    for y in np.arange(-10,-60,-2): \n",
    "        rr=random.randrange(0,100,1)/100 #–random red 0<=rr<=1\n",
    "        rg=random.randrange(0,100,1)/100 #–random green 0<=rg<=1\n",
    "        rb=random.randrange(0,100,1)/100 #–random blue 0<=rb<=1\n",
    "    plt.scatter(x,y,s=25,color=(rr,rg,rb))\n",
    "    \n",
    "#plot without axis\n",
    "    plt.axis(\"off\")\n",
    "    \n",
    "#save the plot as png image   \n",
    "    plt.savefig('CreatedImage.png')"
   ]
  },
  {
   "cell_type": "markdown",
   "metadata": {},
   "source": [
    "\n",
    "## ARTH-Task:35.2 & LW Summer-Task:4.2\n",
    "📌Take 2 images crop some part of both image and swap it.\n",
    "\n"
   ]
  },
  {
   "cell_type": "code",
   "execution_count": 7,
   "metadata": {},
   "outputs": [],
   "source": [
    "#Reading the Images\n",
    "ca=cv2.imread('captain.jpg')\n",
    "im=cv2.imread('iron.png')"
   ]
  },
  {
   "cell_type": "code",
   "execution_count": 8,
   "metadata": {},
   "outputs": [],
   "source": [
    "#Show the Images\n",
    "cv2.imshow('Captain America',ca)\n",
    "cv2.imshow(\"Iron Man\",im)\n",
    "cv2.waitKey()\n",
    "cv2.destroyAllWindows()"
   ]
  },
  {
   "cell_type": "code",
   "execution_count": null,
   "metadata": {},
   "outputs": [],
   "source": [
    "print(ca.shape)\n",
    "print(im.shape)"
   ]
  },
  {
   "cell_type": "code",
   "execution_count": 9,
   "metadata": {},
   "outputs": [],
   "source": [
    "#Swap the Images\n",
    "\"\"\"Formula\n",
    "   a=a+b\n",
    "   b=a-b\n",
    "   a=a-b\n",
    "     \"\"\"\n",
    "ca[30:180,60:220] = ca[30:180,60:220] + im[30:180,60:220]\n",
    "im[30:180,60:220] = ca[30:180,60:220] - im[30:180,60:220] \n",
    "ca[30:180,60:220] = ca[30:180,60:220] - im[30:180,60:220]"
   ]
  },
  {
   "cell_type": "code",
   "execution_count": 10,
   "metadata": {},
   "outputs": [],
   "source": [
    "#Showing the Swapped Images\n",
    "cv2.imshow('captain.jpg', ca)\n",
    "cv2.imshow(\"iron.jpg\", im)\n",
    "cv2.waitKey()\n",
    "cv2.destroyAllWindows()"
   ]
  },
  {
   "cell_type": "markdown",
   "metadata": {},
   "source": [
    "\n",
    "## ARTH-Task:35.3 & LW Summer-Task:4.3\n",
    "📌Take Images and Combine it to form a single image."
   ]
  },
  {
   "cell_type": "code",
   "execution_count": 11,
   "metadata": {},
   "outputs": [],
   "source": [
    "\n",
    "#Again Read the Images to make Collage\n",
    "arth=cv2.imread('ARTH.jpg')\n",
    "lw=cv2.imread('LW.jpg')\n"
   ]
  },
  {
   "cell_type": "code",
   "execution_count": 12,
   "metadata": {},
   "outputs": [],
   "source": [
    "horizontal_stack = np.hstack((lw,arth))\n",
    "vertical_stack   = np.vstack((lw,arth))"
   ]
  },
  {
   "cell_type": "code",
   "execution_count": 13,
   "metadata": {},
   "outputs": [
    {
     "name": "stdout",
     "output_type": "stream",
     "text": [
      "(200, 252, 3)\n",
      "(200, 252, 3)\n"
     ]
    }
   ],
   "source": [
    "print(lw.shape)\n",
    "print(arth.shape)"
   ]
  },
  {
   "cell_type": "code",
   "execution_count": 14,
   "metadata": {},
   "outputs": [],
   "source": [
    "\n",
    "#Showing The Collage\n",
    "cv2.imshow(\"ARTH X LW Summer\",vertical_stack)\n",
    "cv2.imshow('LinuxWorld Summer  X  ARTH - The School of Technologies',horizontal_stack)\n",
    "cv2.waitKey()\n",
    "cv2.destroyAllWindows()"
   ]
  },
  {
   "cell_type": "markdown",
   "metadata": {},
   "source": [
    ".....................................................................................**Thank You**  🙏..........................................................................................."
   ]
  },
  {
   "cell_type": "code",
   "execution_count": null,
   "metadata": {},
   "outputs": [],
   "source": [
    "Hope you enjoyed it !"
   ]
  }
 ],
 "metadata": {
  "kernelspec": {
   "display_name": "Python 3",
   "language": "python",
   "name": "python3"
  },
  "language_info": {
   "codemirror_mode": {
    "name": "ipython",
    "version": 3
   },
   "file_extension": ".py",
   "mimetype": "text/x-python",
   "name": "python",
   "nbconvert_exporter": "python",
   "pygments_lexer": "ipython3",
   "version": "3.8.3"
  }
 },
 "nbformat": 4,
 "nbformat_minor": 4
}
